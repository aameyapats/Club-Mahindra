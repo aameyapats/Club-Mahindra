{
 "cells": [
  {
   "cell_type": "code",
   "execution_count": null,
   "metadata": {},
   "outputs": [],
   "source": [
    "import os\n",
    "import numpy as np\n",
    "import pandas as pd\n",
    "import seaborn as sns\n",
    "import matplotlib.pyplot as plt\n",
    "%matplotlib inline\n",
    "import datetime\n",
    "\n",
    "import time"
   ]
  },
  {
   "cell_type": "code",
   "execution_count": null,
   "metadata": {},
   "outputs": [],
   "source": [
    "os.getcwd()"
   ]
  },
  {
   "cell_type": "code",
   "execution_count": null,
   "metadata": {},
   "outputs": [],
   "source": [
    "os.chdir('/Users/ameyapatankar/Desktop/Club Mahindra/train_5CLrC8b')"
   ]
  },
  {
   "cell_type": "code",
   "execution_count": null,
   "metadata": {},
   "outputs": [],
   "source": [
    "train = pd.read_csv('train.csv')"
   ]
  },
  {
   "cell_type": "code",
   "execution_count": null,
   "metadata": {},
   "outputs": [],
   "source": [
    "train.shape"
   ]
  },
  {
   "cell_type": "code",
   "execution_count": null,
   "metadata": {},
   "outputs": [],
   "source": [
    "test = pd.read_csv('test.csv')"
   ]
  },
  {
   "cell_type": "code",
   "execution_count": null,
   "metadata": {},
   "outputs": [],
   "source": [
    "test.head()"
   ]
  },
  {
   "cell_type": "code",
   "execution_count": null,
   "metadata": {},
   "outputs": [],
   "source": [
    "train['booking_days_prior']= pd.to_datetime(train.checkin_date,dayfirst=True)-pd.to_datetime(train.booking_date,dayfirst=True) \n",
    "\n",
    "train['days_stayed']= pd.to_datetime(train.checkout_date,dayfirst=True)-pd.to_datetime(train.checkin_date,dayfirst=True)\n",
    "\n",
    "train['booking_days_prior']= train['booking_days_prior'].dt.days\n",
    "train['days_stayed']= train['days_stayed'].dt.days"
   ]
  },
  {
   "cell_type": "code",
   "execution_count": null,
   "metadata": {},
   "outputs": [],
   "source": [
    "train.booking_days_prior.head()"
   ]
  },
  {
   "cell_type": "code",
   "execution_count": null,
   "metadata": {},
   "outputs": [],
   "source": [
    "train.days_stayed.head()"
   ]
  },
  {
   "cell_type": "code",
   "execution_count": null,
   "metadata": {},
   "outputs": [],
   "source": [
    "train.isna().sum()"
   ]
  },
  {
   "cell_type": "code",
   "execution_count": null,
   "metadata": {},
   "outputs": [],
   "source": [
    "#Filling NA of state_code_residence with mode value\n",
    "\n",
    "train.state_code_residence.fillna(train['state_code_residence'].mode()[0],inplace=True) "
   ]
  },
  {
   "cell_type": "code",
   "execution_count": null,
   "metadata": {},
   "outputs": [],
   "source": [
    "#Dropping the rows with na values\n",
    "\n",
    "train= train.dropna()"
   ]
  },
  {
   "cell_type": "code",
   "execution_count": null,
   "metadata": {},
   "outputs": [],
   "source": [
    "train.season_holidayed_code.iloc[33969]"
   ]
  },
  {
   "cell_type": "code",
   "execution_count": null,
   "metadata": {},
   "outputs": [],
   "source": [
    "train.info()"
   ]
  },
  {
   "cell_type": "code",
   "execution_count": null,
   "metadata": {},
   "outputs": [],
   "source": [
    "train.T"
   ]
  },
  {
   "cell_type": "code",
   "execution_count": null,
   "metadata": {},
   "outputs": [],
   "source": [
    "train.columns"
   ]
  },
  {
   "cell_type": "code",
   "execution_count": null,
   "metadata": {},
   "outputs": [],
   "source": [
    "#Variables for One Hot Encoding\n",
    "\n",
    "cluster_code\n",
    "reservationstatusid_code \n",
    "booking_type_code #can be online or offline etc so number soesn' matter (maybe)\n",
    "member_age_buckets #Check once for label Encoding\n",
    "state_code_resort\n",
    "season_holidayed_code\n",
    "room_type_booked (Maybe not needed)\n",
    "room_type_booked_code (Maybe not needed)\n",
    "persontravellingid\n",
    "resort_region_code\n",
    "\n",
    "\n",
    "\n",
    "Maybe State_code_residence \n",
    "main_product_code                           also needs to be one hot encoded"
   ]
  },
  {
   "cell_type": "code",
   "execution_count": null,
   "metadata": {},
   "outputs": [],
   "source": [
    "train.columns"
   ]
  },
  {
   "cell_type": "code",
   "execution_count": null,
   "metadata": {},
   "outputs": [],
   "source": [
    "Data_corr = pd.get_dummies(train.set_index('reservation_id'),columns=['cluster_code','reservationstatusid_code',\n",
    "                                                                        'booking_type_code', \n",
    "                                                                        'member_age_buckets',\n",
    "                                                                        'state_code_resort',\n",
    "                                                                        'season_holidayed_code',\n",
    "                                                                        'room_type_booked_code',\n",
    "                                                                        'room_type_booked',\n",
    "                                                                        'persontravellingid',\n",
    "                                                                        'resort_region_code'\n",
    "                                                                        ])"
   ]
  },
  {
   "cell_type": "code",
   "execution_count": null,
   "metadata": {},
   "outputs": [],
   "source": [
    "Data_corr = Data_corr.drop(['booking_date', 'checkin_date', 'checkout_date',\n",
    "                           'resort_id','memberid','amount_spent_per_room_night_scaled',\n",
    "                           'reservationstatusid_code_D'],axis=1)\n",
    "\n",
    "#Dropping reservationstatusid_code_D as it is not in test data"
   ]
  },
  {
   "cell_type": "code",
   "execution_count": null,
   "metadata": {},
   "outputs": [],
   "source": [
    "train_new = train.copy()"
   ]
  },
  {
   "cell_type": "code",
   "execution_count": null,
   "metadata": {},
   "outputs": [],
   "source": [
    "Data_corr.info()"
   ]
  },
  {
   "cell_type": "code",
   "execution_count": null,
   "metadata": {},
   "outputs": [],
   "source": [
    "Data_corr.columns,Data_corr.shape"
   ]
  },
  {
   "cell_type": "code",
   "execution_count": null,
   "metadata": {},
   "outputs": [],
   "source": [
    "start_time = time.time()\n",
    "\n",
    "\n",
    "test['booking_days_prior']= pd.to_datetime(test.checkin_date,dayfirst=True)-pd.to_datetime(test.booking_date,dayfirst=True) \n",
    "test['days_stayed']= pd.to_datetime(test.checkout_date,dayfirst=True)-pd.to_datetime(test.checkin_date,dayfirst=True)\n",
    "\n",
    "test['booking_days_prior']= test['booking_days_prior'].dt.days\n",
    "test['days_stayed']= test['days_stayed'].dt.days\n",
    "\n",
    "print(\"Execution time: \" + str((time.time() - start_time)) + ' ms')\n",
    "print(test.booking_days_prior.head())\n",
    "print(test.days_stayed.head())"
   ]
  },
  {
   "cell_type": "code",
   "execution_count": null,
   "metadata": {},
   "outputs": [],
   "source": [
    "#Replacing NA in test data with variable modes\n",
    "\n",
    "test.state_code_residence.fillna(test['state_code_residence'].mode()[0],inplace=True) \n",
    "\n",
    "test.season_holidayed_code.fillna(test['season_holidayed_code'].mode()[0],inplace=True) \n",
    "\n"
   ]
  },
  {
   "cell_type": "code",
   "execution_count": null,
   "metadata": {},
   "outputs": [],
   "source": [
    "test.isna().sum()"
   ]
  },
  {
   "cell_type": "code",
   "execution_count": null,
   "metadata": {},
   "outputs": [],
   "source": [
    "test.columns"
   ]
  },
  {
   "cell_type": "code",
   "execution_count": null,
   "metadata": {},
   "outputs": [],
   "source": [
    "test_new = pd.get_dummies(test.set_index('reservation_id'),columns=['cluster_code','reservationstatusid_code',\n",
    "                                                                        'booking_type_code', \n",
    "                                                                        'member_age_buckets',\n",
    "                                                                        'state_code_resort',\n",
    "                                                                        'season_holidayed_code',\n",
    "                                                                        'room_type_booked_code',\n",
    "                                                                        'persontravellingid',\n",
    "                                                                        'resort_region_code'])\n",
    "\n",
    "# test_new = Data_corr.drop(['booking_date', 'checkin_date', 'checkout_date',\n",
    "#                            'resort_id','memberid','amount_spent_per_room_night_scaled'],axis=1)\n"
   ]
  },
  {
   "cell_type": "code",
   "execution_count": null,
   "metadata": {},
   "outputs": [],
   "source": [
    "test_new.columns"
   ]
  },
  {
   "cell_type": "code",
   "execution_count": null,
   "metadata": {},
   "outputs": [],
   "source": [
    "test_new = test_new.drop(['booking_date', 'checkin_date', 'checkout_date',\n",
    "                            'resort_id','memberid'],axis=1)\n",
    "\n"
   ]
  },
  {
   "cell_type": "code",
   "execution_count": null,
   "metadata": {},
   "outputs": [],
   "source": [
    "test_new.shape"
   ]
  },
  {
   "cell_type": "code",
   "execution_count": null,
   "metadata": {},
   "outputs": [],
   "source": [
    "from sklearn.preprocessing import LabelEncoder\n",
    "labelencoder = LabelEncoder()\n",
    "# x[:, 0] = labelencoder.fit_transform(x[:, 0])\n",
    "\n",
    "\n",
    "\n",
    "from sklearn.model_selection import train_test_split\n",
    "from sklearn.preprocessing import LabelEncoder\n",
    "from math import sqrt\n",
    "from sklearn.metrics import mean_squared_error"
   ]
  },
  {
   "cell_type": "code",
   "execution_count": null,
   "metadata": {},
   "outputs": [],
   "source": [
    "plt.figure(figsize = (15,15))\n",
    "sns.heatmap(Data_corr.corr())"
   ]
  },
  {
   "cell_type": "code",
   "execution_count": null,
   "metadata": {},
   "outputs": [],
   "source": [
    "from sklearn.ensemble import RandomForestRegressor\n",
    "from sklearn import datasets\n",
    "\n",
    "\n",
    "from sklearn.metrics import accuracy_score, roc_curve\n",
    "from sklearn.metrics import mean_squared_error\n",
    "from math import sqrt\n",
    "\n"
   ]
  },
  {
   "cell_type": "code",
   "execution_count": null,
   "metadata": {},
   "outputs": [],
   "source": [
    "#data_new = Data_corr.drop(['reservationstatusid_code_D'],axis=1)"
   ]
  },
  {
   "cell_type": "code",
   "execution_count": null,
   "metadata": {},
   "outputs": [],
   "source": [
    "X = Data_corr.copy()\n",
    "Y= train.amount_spent_per_room_night_scaled \n"
   ]
  },
  {
   "cell_type": "code",
   "execution_count": null,
   "metadata": {},
   "outputs": [],
   "source": [
    "Y.head()"
   ]
  },
  {
   "cell_type": "code",
   "execution_count": null,
   "metadata": {},
   "outputs": [],
   "source": [
    "X.columns,X.shape"
   ]
  },
  {
   "cell_type": "code",
   "execution_count": null,
   "metadata": {},
   "outputs": [],
   "source": [
    "Y.shape"
   ]
  },
  {
   "cell_type": "code",
   "execution_count": null,
   "metadata": {},
   "outputs": [],
   "source": [
    "X_train, X_cv, y_train, y_cv = train_test_split( X, Y, test_size=0.3, random_state=42)"
   ]
  },
  {
   "cell_type": "code",
   "execution_count": null,
   "metadata": {},
   "outputs": [],
   "source": [
    "X_train.shape,y_train.shape"
   ]
  },
  {
   "cell_type": "code",
   "execution_count": null,
   "metadata": {},
   "outputs": [],
   "source": [
    "y_pred = rf.predict(X_cv)"
   ]
  },
  {
   "cell_type": "code",
   "execution_count": null,
   "metadata": {},
   "outputs": [],
   "source": [
    "#Hyperparamneter tuning for Random Forest using Grid Search CV\n",
    "\n",
    "\n",
    "rf = RandomForestRegressor(random_state=42,max_features=3,n_estimators=200,min_samples_split=5,\n",
    "                          min_samples_leaf=5)\n",
    "\n",
    "from pprint import pprint\n",
    "\n",
    "pprint(rf.get_params())"
   ]
  },
  {
   "cell_type": "code",
   "execution_count": null,
   "metadata": {},
   "outputs": [],
   "source": [
    "from sklearn.model_selection import GridSearchCV\n",
    "\n",
    "param_grid = {\n",
    "    'bootstrap': [True],\n",
    "    'max_depth': [50,75, 100],\n",
    "    'max_features': [2, 3,4],\n",
    "    'min_samples_leaf': [5,10,15],\n",
    "    'min_samples_split': [5,10,20],\n",
    "    'n_estimators': [100,150, 200]\n",
    "}\n",
    "\n"
   ]
  },
  {
   "cell_type": "code",
   "execution_count": null,
   "metadata": {},
   "outputs": [],
   "source": [
    "grid_search = GridSearchCV(estimator = rf, param_grid = param_grid, \n",
    "                          cv = 3, n_jobs = -1, verbose = 2)"
   ]
  },
  {
   "cell_type": "code",
   "execution_count": null,
   "metadata": {},
   "outputs": [],
   "source": [
    "#GridSearch with 3 fold CV to find best hyperparameters for Random forest\n",
    "\n",
    "#grid_search.fit(X_train,y_train)"
   ]
  },
  {
   "cell_type": "code",
   "execution_count": null,
   "metadata": {},
   "outputs": [],
   "source": [
    "grid_search.best_params_"
   ]
  },
  {
   "cell_type": "code",
   "execution_count": null,
   "metadata": {},
   "outputs": [],
   "source": [
    "#Fitting Random Forest with given hyperparameters\n",
    "\n",
    "\n",
    "rf.fit(X_train,y_train)"
   ]
  },
  {
   "cell_type": "code",
   "execution_count": null,
   "metadata": {},
   "outputs": [],
   "source": [
    "y_pred =rf.predict(X_cv)"
   ]
  },
  {
   "cell_type": "code",
   "execution_count": null,
   "metadata": {},
   "outputs": [],
   "source": [
    "y_pred.shape,y_cv.shape"
   ]
  },
  {
   "cell_type": "markdown",
   "metadata": {},
   "source": [
    "RMSE FOR VALIDATION DATA"
   ]
  },
  {
   "cell_type": "code",
   "execution_count": null,
   "metadata": {},
   "outputs": [],
   "source": [
    "rmse = sqrt((mean_squared_error(y_cv, y_pred)))\n",
    "print(rmse)"
   ]
  },
  {
   "cell_type": "code",
   "execution_count": null,
   "metadata": {},
   "outputs": [],
   "source": [
    "X_train.shape,test_new.shape"
   ]
  },
  {
   "cell_type": "code",
   "execution_count": null,
   "metadata": {},
   "outputs": [],
   "source": []
  },
  {
   "cell_type": "code",
   "execution_count": null,
   "metadata": {},
   "outputs": [],
   "source": [
    "#Predicting on given TEST data\n",
    "\n",
    "y_predicted= rf.predict(test_new)"
   ]
  },
  {
   "cell_type": "code",
   "execution_count": null,
   "metadata": {},
   "outputs": [],
   "source": [
    "y_predicted.shape,y_predicted"
   ]
  },
  {
   "cell_type": "code",
   "execution_count": null,
   "metadata": {},
   "outputs": [],
   "source": [
    "Result = pd.DataFrame({'reservation_id': test_new.index, 'amount_spent_per_room_night_scaled': y_predicted})"
   ]
  },
  {
   "cell_type": "code",
   "execution_count": null,
   "metadata": {},
   "outputs": [],
   "source": [
    "Result.head()"
   ]
  },
  {
   "cell_type": "code",
   "execution_count": null,
   "metadata": {},
   "outputs": [],
   "source": [
    "Result.to_csv(\"Result_rf.csv\")"
   ]
  },
  {
   "cell_type": "code",
   "execution_count": null,
   "metadata": {},
   "outputs": [],
   "source": [
    "from xgboost import XGBRegressor\n",
    "#from sklearn.metrics import mean_squared_error"
   ]
  },
  {
   "cell_type": "code",
   "execution_count": null,
   "metadata": {},
   "outputs": [],
   "source": [
    "X_train.columns"
   ]
  },
  {
   "cell_type": "code",
   "execution_count": null,
   "metadata": {},
   "outputs": [],
   "source": [
    "X_train.columns.duplicated()"
   ]
  },
  {
   "cell_type": "code",
   "execution_count": null,
   "metadata": {},
   "outputs": [],
   "source": [
    "Data_corr = pd.get_dummies(train.set_index('reservation_id'),columns=['cluster_code','reservationstatusid_code',\n",
    "                                                                        'booking_type_code', \n",
    "                                                                        'member_age_buckets',\n",
    "                                                                        'state_code_resort',\n",
    "                                                                        'season_holidayed_code',\n",
    "                                                                        'room_type_booked_code',\n",
    "                                                                        'room_type_booked_code',\n",
    "                                                                        'persontravellingid',\n",
    "                                                                        'resort_region_code'\n",
    "                                                                        ])"
   ]
  },
  {
   "cell_type": "code",
   "execution_count": null,
   "metadata": {},
   "outputs": [],
   "source": [
    "#Variables for One Hot Encoding\n",
    "\n",
    "cluster_code\n",
    "reservationstatusid_code \n",
    "booking_type_code #can be online or offline etc so number soesn' matter (maybe)\n",
    "member_age_buckets #Check once for label Encoding\n",
    "state_code_resort\n",
    "season_holidayed_code\n",
    "room_type_booked (Maybe not needed)\n",
    "room_type_booked_code (Maybe not needed)\n",
    "persontravellingid\n",
    "resort_region_code\n",
    "\n",
    "\n",
    "\n",
    "Maybe State_code_residence \n",
    "main_product_code                           also needs to be one hot encoded"
   ]
  },
  {
   "cell_type": "code",
   "execution_count": null,
   "metadata": {},
   "outputs": [],
   "source": [
    "train.columns"
   ]
  },
  {
   "cell_type": "code",
   "execution_count": null,
   "metadata": {},
   "outputs": [],
   "source": [
    "Data_2 = pd.get_dummies(train.set_index('reservation_id'),columns=['main_product_code','channel_code',\n",
    "                                                                   'persontravellingid',\n",
    "                                                                   'resort_region_code',\n",
    "                                                                   'resort_type_code',\n",
    "                                                                   'room_type_booked_code',\n",
    "                                                                   'season_holidayed_code',\n",
    "                                                                   'state_code_resort',\n",
    "                                                                   'member_age_buckets',\n",
    "                                                                   'booking_type_code',\n",
    "                                                                   'cluster_code',\n",
    "                                                                   'reservationstatusid_code'                                                          \n",
    "                                                                    ])\n",
    "\n",
    "#Include state_code_residence next run"
   ]
  },
  {
   "cell_type": "code",
   "execution_count": null,
   "metadata": {},
   "outputs": [],
   "source": [
    "test_new_2 = pd.get_dummies(test.set_index('reservation_id'),columns=['main_product_code','channel_code',\n",
    "                                                                   'persontravellingid',\n",
    "                                                                   'resort_region_code',\n",
    "                                                                   'resort_type_code',\n",
    "                                                                   'room_type_booked_code',\n",
    "                                                                   'season_holidayed_code',\n",
    "                                                                   'state_code_resort',\n",
    "                                                                   'member_age_buckets',\n",
    "                                                                   'booking_type_code',\n",
    "                                                                   'cluster_code',\n",
    "                                                                   'reservationstatusid_code'                                                          \n",
    "                                                                    ])\n",
    "                                                                       "
   ]
  },
  {
   "cell_type": "code",
   "execution_count": null,
   "metadata": {},
   "outputs": [],
   "source": [
    "Data_corr.shape\n"
   ]
  },
  {
   "cell_type": "code",
   "execution_count": null,
   "metadata": {},
   "outputs": [],
   "source": [
    "Data_2 = Data_2.drop(['amount_spent_per_room_night_scaled','reservationstatusid_code_D'],axis=1)"
   ]
  },
  {
   "cell_type": "code",
   "execution_count": null,
   "metadata": {},
   "outputs": [],
   "source": [
    "Data_2 = Data_2.drop(['booking_date', 'checkin_date', 'checkout_date',\n",
    "                           'resort_id','memberid'\n",
    "                           ],axis=1)\n",
    "\n",
    "\n",
    "test_new_2= test_new_2.drop(['booking_date', 'checkin_date', 'checkout_date',\n",
    "                            'resort_id','memberid'],axis=1)"
   ]
  },
  {
   "cell_type": "code",
   "execution_count": null,
   "metadata": {},
   "outputs": [],
   "source": [
    "Data_2.shape,test_new_2.shape"
   ]
  },
  {
   "cell_type": "code",
   "execution_count": null,
   "metadata": {},
   "outputs": [],
   "source": [
    "rf = RandomForestRegressor(random_state=42,max_features=4,n_estimators=300,min_samples_split=10,\n",
    "                          min_samples_leaf=5)\n",
    "\n",
    "from pprint import pprint\n",
    "\n",
    "pprint(rf.get_params())"
   ]
  },
  {
   "cell_type": "code",
   "execution_count": null,
   "metadata": {},
   "outputs": [],
   "source": [
    "X= Data_2.copy()\n",
    "Y=train.amount_spent_per_room_night_scaled\n",
    "\n",
    "\n"
   ]
  },
  {
   "cell_type": "code",
   "execution_count": null,
   "metadata": {},
   "outputs": [],
   "source": [
    "X.shape,Y.shape"
   ]
  },
  {
   "cell_type": "code",
   "execution_count": null,
   "metadata": {},
   "outputs": [],
   "source": [
    "X.columns"
   ]
  },
  {
   "cell_type": "code",
   "execution_count": null,
   "metadata": {},
   "outputs": [],
   "source": [
    "X_train, X_cv, y_train, y_cv = train_test_split( X, Y, test_size=0.3, random_state=42)"
   ]
  },
  {
   "cell_type": "code",
   "execution_count": null,
   "metadata": {},
   "outputs": [],
   "source": [
    "rf.fit(X_train,y_train)"
   ]
  },
  {
   "cell_type": "code",
   "execution_count": null,
   "metadata": {},
   "outputs": [],
   "source": [
    "y_pred = rf.predict(test_new_2)"
   ]
  },
  {
   "cell_type": "code",
   "execution_count": null,
   "metadata": {},
   "outputs": [],
   "source": [
    "y_pred.shape,test_new_2.shape"
   ]
  },
  {
   "cell_type": "code",
   "execution_count": null,
   "metadata": {},
   "outputs": [],
   "source": [
    "Result_2 = pd.DataFrame({'reservation_id': test_new_2.index, 'amount_spent_per_room_night_scaled': y_predicted})"
   ]
  },
  {
   "cell_type": "code",
   "execution_count": null,
   "metadata": {},
   "outputs": [],
   "source": [
    "Result.tail()"
   ]
  },
  {
   "cell_type": "code",
   "execution_count": null,
   "metadata": {},
   "outputs": [],
   "source": [
    "Result_2.tail()"
   ]
  },
  {
   "cell_type": "code",
   "execution_count": null,
   "metadata": {},
   "outputs": [],
   "source": [
    "Result_2.to_csv(\"Result_rf_2.csv\")"
   ]
  },
  {
   "cell_type": "code",
   "execution_count": null,
   "metadata": {},
   "outputs": [],
   "source": [
    "xgb = XGBRegressor(learning_rate=0.1,n_estimators=200,min_child_weight=)\n",
    "\n",
    "# xg_reg = xgb.XGBRegressor(objective ='reg:linear', colsample_bytree = 0.3, learning_rate = 0.1,\n",
    "#                 max_depth = 5, alpha = 10, n_estimators = 10)\n",
    "xgb\n",
    "\n",
    "# xgb.fit(X_train,y_train)\n",
    "\n",
    "# preds = xg_reg.predict(X_test)"
   ]
  },
  {
   "cell_type": "code",
   "execution_count": null,
   "metadata": {},
   "outputs": [],
   "source": [
    "parameters = {\n",
    "              'objective':['reg:linear'],\n",
    "              'learning_rate': [0.05, .07,0.1], #so called `eta` value\n",
    "              'max_depth': [5, 6, 7],\n",
    "              'min_child_weight': [4],\n",
    "              'silent': [1],\n",
    "              'subsample': [0.7],\n",
    "              'colsample_bytree': [0.7],\n",
    "              'n_estimators': [500]}"
   ]
  },
  {
   "cell_type": "code",
   "execution_count": null,
   "metadata": {},
   "outputs": [],
   "source": [
    "xgb_grid = GridSearchCV(xgb,\n",
    "                        parameters,\n",
    "                        cv = 2,\n",
    "                        n_jobs = 5,\n",
    "                        verbose=True)\n",
    "\n"
   ]
  },
  {
   "cell_type": "code",
   "execution_count": null,
   "metadata": {},
   "outputs": [],
   "source": [
    "xgb.fit(X_train,y_train)\n",
    "#default params"
   ]
  },
  {
   "cell_type": "code",
   "execution_count": null,
   "metadata": {},
   "outputs": [],
   "source": [
    "print(xgb_grid.best_score_)\n",
    "print(xgb_grid.best_params_)\n"
   ]
  },
  {
   "cell_type": "code",
   "execution_count": null,
   "metadata": {},
   "outputs": [],
   "source": [
    "xgb = XGBRegressor(learning_rate=0.03,n_estimators=600,min_child_weight=6,max_depth=6,colsample_bytree=0.7,\n",
    "                  subsample=0.7,silent=1)"
   ]
  },
  {
   "cell_type": "code",
   "execution_count": null,
   "metadata": {},
   "outputs": [],
   "source": [
    "#parameters set in 184 cell\n",
    "xgb.fit(X_train,y_train)"
   ]
  },
  {
   "cell_type": "code",
   "execution_count": null,
   "metadata": {},
   "outputs": [],
   "source": [
    "y_xgb= xgb.predict(test_new_2)"
   ]
  },
  {
   "cell_type": "code",
   "execution_count": null,
   "metadata": {},
   "outputs": [],
   "source": [
    "Result = pd.DataFrame({'reservation_id': test_new_2.index, 'amount_spent_per_room_night_scaled': y_xgb})"
   ]
  },
  {
   "cell_type": "code",
   "execution_count": null,
   "metadata": {},
   "outputs": [],
   "source": [
    "Result.to_csv(\"Result_xgb.csv\")"
   ]
  },
  {
   "cell_type": "code",
   "execution_count": null,
   "metadata": {},
   "outputs": [],
   "source": [
    "Results for XGB with different XGB parameters\n",
    "\n",
    "(learning_rate=0.07,n_estimators=200,min_child_weight=4,max_depth=5)    97.4235415\n"
   ]
  },
  {
   "cell_type": "code",
   "execution_count": null,
   "metadata": {},
   "outputs": [],
   "source": []
  },
  {
   "cell_type": "code",
   "execution_count": null,
   "metadata": {},
   "outputs": [],
   "source": [
    "Data_2 = pd.get_dummies(train.set_index('reservation_id'),columns=['main_product_code','channel_code',\n",
    "                                                                   'persontravellingid',\n",
    "                                                                   'resort_region_code',\n",
    "                                                                   'resort_type_code',\n",
    "                                                                   'room_type_booked_code',\n",
    "                                                                   'season_holidayed_code',\n",
    "                                                                   'state_code_resort',\n",
    "                                                                   'member_age_buckets',\n",
    "                                                                   'booking_type_code',\n",
    "                                                                   'cluster_code',\n",
    "                                                                   'reservationstatusid_code',\n",
    "                                                                   'state_code_residence'\n",
    "                                                                    ])\n",
    "\n",
    "#Include state_code_residence next run"
   ]
  },
  {
   "cell_type": "code",
   "execution_count": null,
   "metadata": {},
   "outputs": [],
   "source": [
    "test_new_2 = pd.get_dummies(test.set_index('reservation_id'),columns=['main_product_code','channel_code',\n",
    "                                                                   'persontravellingid',\n",
    "                                                                   'resort_region_code',\n",
    "                                                                   'resort_type_code',\n",
    "                                                                   'room_type_booked_code',\n",
    "                                                                   'season_holidayed_code',\n",
    "                                                                   'state_code_resort',\n",
    "                                                                   'member_age_buckets',\n",
    "                                                                   'booking_type_code',\n",
    "                                                                   'cluster_code',\n",
    "                                                                   'reservationstatusid_code',\n",
    "                                                                    'state_code_residence'\n",
    "                                                                    ])\n",
    "                                                                       "
   ]
  },
  {
   "cell_type": "code",
   "execution_count": null,
   "metadata": {},
   "outputs": [],
   "source": [
    "Data_2 = Data_2.drop(['amount_spent_per_room_night_scaled','reservationstatusid_code_D'],axis=1)"
   ]
  },
  {
   "cell_type": "code",
   "execution_count": null,
   "metadata": {},
   "outputs": [],
   "source": [
    "Data_2 = Data_2.drop(['booking_date', 'checkin_date', 'checkout_date',\n",
    "                           'resort_id','memberid'\n",
    "                           ],axis=1)\n",
    "\n",
    "\n",
    "test_new_2= test_new_2.drop(['booking_date', 'checkin_date', 'checkout_date',\n",
    "                            'resort_id','memberid'],axis=1)"
   ]
  },
  {
   "cell_type": "code",
   "execution_count": null,
   "metadata": {},
   "outputs": [],
   "source": [
    "X= Data_2.copy()\n",
    "Y=train.amount_spent_per_room_night_scaled"
   ]
  },
  {
   "cell_type": "code",
   "execution_count": null,
   "metadata": {},
   "outputs": [],
   "source": [
    "test_new_2.shape,Data_2.shape"
   ]
  },
  {
   "cell_type": "code",
   "execution_count": null,
   "metadata": {},
   "outputs": [],
   "source": [
    "X_train, X_cv, y_train, y_cv = train_test_split( X, Y, test_size=0.3, random_state=42)"
   ]
  },
  {
   "cell_type": "code",
   "execution_count": null,
   "metadata": {},
   "outputs": [],
   "source": [
    "#XGB with new added feature of state code residence\n",
    "\n",
    "xgb.fit(X_train,y_train)"
   ]
  },
  {
   "cell_type": "code",
   "execution_count": null,
   "metadata": {},
   "outputs": [],
   "source": [
    "y_xgb= xgb.predict(test_new_2)\n",
    "Result = pd.DataFrame({'reservation_id': test_new_2.index, 'amount_spent_per_room_night_scaled': y_xgb})\n",
    "Result.to_csv(\"Result_xgb.csv\")"
   ]
  },
  {
   "cell_type": "code",
   "execution_count": null,
   "metadata": {},
   "outputs": [],
   "source": [
    "from sklearn.svm import SVR\n",
    "\n",
    "regressor=SVR()\n",
    "\n"
   ]
  },
  {
   "cell_type": "code",
   "execution_count": null,
   "metadata": {},
   "outputs": [],
   "source": [
    "regressor.fit(X_train,y_train)\n",
    "\n",
    "    #pred=regressor.predict(xtest)"
   ]
  },
  {
   "cell_type": "code",
   "execution_count": null,
   "metadata": {},
   "outputs": [],
   "source": [
    "os.getcwd()"
   ]
  },
  {
   "cell_type": "code",
   "execution_count": null,
   "metadata": {},
   "outputs": [],
   "source": []
  }
 ],
 "metadata": {
  "kernelspec": {
   "display_name": "Python 3",
   "language": "python",
   "name": "python3"
  },
  "language_info": {
   "codemirror_mode": {
    "name": "ipython",
    "version": 3
   },
   "file_extension": ".py",
   "mimetype": "text/x-python",
   "name": "python",
   "nbconvert_exporter": "python",
   "pygments_lexer": "ipython3",
   "version": "3.7.0"
  }
 },
 "nbformat": 4,
 "nbformat_minor": 2
}
